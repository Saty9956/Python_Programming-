{
 "cells": [
  {
   "cell_type": "code",
   "execution_count": 1,
   "id": "534bfceb-d384-4fa6-94ab-8cbff2a96225",
   "metadata": {},
   "outputs": [
    {
     "name": "stdin",
     "output_type": "stream",
     "text": [
      "x1:  4\n",
      "y1:  5\n",
      "x2:  6\n",
      "y2:  7\n"
     ]
    },
    {
     "name": "stdout",
     "output_type": "stream",
     "text": [
      "The distance between the points is: 1.4142135623730951\n"
     ]
    }
   ],
   "source": [
    "#Q1.WAP to calculate the distance b/w two points\n",
    "\n",
    "import math\n",
    "\n",
    "#Function to calculate distance between two points\n",
    "def calc_distance(x1,x2,y1,y2):\n",
    "    distance=math.sqrt((x2-x1)**2 + (y2-y1)**2)\n",
    "    return distance\n",
    "\n",
    "#input coordinates for the two points\n",
    "x1= float(input(\"x1: \"))\n",
    "y1= float(input(\"y1: \"))\n",
    "x2= float(input(\"x2: \"))\n",
    "y2= float(input(\"y2: \"))\n",
    "\n",
    "#calculate and print the distance\n",
    "distance=calc_distance(x1,y1,x2,y2)\n",
    "print(\"The distance between the points is:\",distance)\n"
   ]
  },
  {
   "cell_type": "code",
   "execution_count": 7,
   "id": "f8c563cb-2bb6-48e3-90fb-5ef29a26ba32",
   "metadata": {},
   "outputs": [
    {
     "name": "stdin",
     "output_type": "stream",
     "text": [
      "Enter the length a:  4\n",
      "Enter the length b:  5\n",
      "Enter the length c:  6\n"
     ]
    },
    {
     "name": "stdout",
     "output_type": "stream",
     "text": [
      "semi perimeter is : 7.5\n",
      "The area of triangle is:  9.921567416492215\n"
     ]
    }
   ],
   "source": [
    "#Q2. Write a program to calculate the area of a triangle using Heron's formula.\n",
    "\n",
    "#Enter the length of triangle's side\n",
    "a=float(input(\"Enter the length a: \"))\n",
    "b=float(input(\"Enter the length b: \"))\n",
    "c=float(input(\"Enter the length c: \"))\n",
    "\n",
    "#Calculate semi perimeter s=(a+b+c)/2\n",
    "s=(a+b+c)/2\n",
    "print(\"semi perimeter is :\",s) \n",
    "\n",
    "#heron's formula area=(s*(s-a)*(s-b)*(s-c))**0.5\n",
    "area=(s*(s-a)*(s-b)*(s-c))**0.5\n",
    "print(\"The area of triangle is: \" , area)\n"
   ]
  },
  {
   "cell_type": "code",
   "execution_count": 15,
   "id": "0d640ba8-f72e-4a2e-a7d6-71aaf19f0525",
   "metadata": {},
   "outputs": [
    {
     "name": "stdin",
     "output_type": "stream",
     "text": [
      "Enter the quantity sold:  4\n",
      "Enter the value per item:  100\n",
      "Enter the discount percentage:  10\n",
      "Enter the tax percentage:  18\n"
     ]
    },
    {
     "name": "stdout",
     "output_type": "stream",
     "text": [
      "The final bill amount is: 424.8\n"
     ]
    }
   ],
   "source": [
    "#Q3.Write a program to calculate the bill amount for an item given its quantity sold, value, discount, and tax.\n",
    "def calc_bill(q, v, d, t):  # q=quantity, v=value per item, d=discount in %, t=tax\n",
    "    # Calculate total value before discount and tax\n",
    "    total_value = q * v\n",
    "    \n",
    "    # Calculate the discount amount\n",
    "    discount_amount = total_value * (d / 100)\n",
    "    \n",
    "    # Value after discount\n",
    "    value_after_discount = total_value - discount_amount\n",
    "    \n",
    "    # Calculate the tax amount\n",
    "    tax_amount = value_after_discount * (t / 100)\n",
    "    \n",
    "    # Calculate the final bill\n",
    "    final_amount = value_after_discount + tax_amount\n",
    "\n",
    "    return final_amount\n",
    "\n",
    "# Input all values\n",
    "q = float(input(\"Enter the quantity sold: \"))\n",
    "v = float(input(\"Enter the value per item: \"))\n",
    "d = float(input(\"Enter the discount percentage: \"))\n",
    "t = float(input(\"Enter the tax percentage: \"))\n",
    "\n",
    "# Calculate and display the final bill amount\n",
    "bill_amount = calc_bill(q, v, d, t)\n",
    "print(\"The final bill amount is:\", bill_amount)\n"
   ]
  },
  {
   "cell_type": "code",
   "execution_count": 21,
   "id": "6040d156-220b-4191-a04e-8eace299ab3d",
   "metadata": {},
   "outputs": [
    {
     "name": "stdout",
     "output_type": "stream",
     "text": [
      "The final integer value is:  12345678\n"
     ]
    }
   ],
   "source": [
    "#Q3. Given a string s = \"1234\" and an integer n = 5678, concatenate them as a single string and then convert the result back to an integer. What is the final integer value?\n",
    "# Given string and integer\n",
    "s = \"1234\"\n",
    "n = 5678\n",
    "\n",
    "# Concatenate them as a string\n",
    "concatenation = s + str(n)\n",
    "\n",
    "# Convert the concatenated string back to an integer\n",
    "integer_value = int(concatenation)\n",
    "\n",
    "# Display the final integer value\n",
    "print(f\"The final integer value is: \",integer_value)\n"
   ]
  },
  {
   "cell_type": "code",
   "execution_count": 22,
   "id": "b68f2980-b6fb-41e2-96c1-c2e1a3f694a4",
   "metadata": {},
   "outputs": [
    {
     "name": "stdout",
     "output_type": "stream",
     "text": [
      "After swapping: a =  3 b = 7\n"
     ]
    }
   ],
   "source": [
    "#Q4. Given two variables, a = 7 and b = 3, write a Python code snippet to swap their values without using a temporary variable. What will be the values of a and b after the swap?\n",
    "a = 7\n",
    "b = 3\n",
    "\n",
    "# Swap the value\n",
    "a, b = b, a\n",
    "\n",
    "# Print the values after the swap\n",
    "print(\"After swapping:\",\"a = \",a,\"b =\",b)\n"
   ]
  },
  {
   "cell_type": "code",
   "execution_count": 23,
   "id": "54e73005-cf12-4f73-ae50-f0a38fd35f58",
   "metadata": {},
   "outputs": [
    {
     "name": "stdout",
     "output_type": "stream",
     "text": [
      "The average of the numbers is  30.0\n"
     ]
    }
   ],
   "source": [
    "#Q5. Given a list of numbers = [10, 20, 30, 40, 50], write a Python code snippet to calculate the average of these numbers using arithmetic operators.\n",
    "numbers = [10, 20, 30, 40, 50]\n",
    "s=0\n",
    "for i in numbers:\n",
    "    s=s+i\n",
    "#average\n",
    "n=len(numbers)\n",
    "average=s/n\n",
    "\n",
    "print(\"The average of the numbers is \",average)"
   ]
  },
  {
   "cell_type": "code",
   "execution_count": 25,
   "id": "825422d5-c001-4377-81e2-d58ef0ffa15b",
   "metadata": {},
   "outputs": [
    {
     "name": "stdin",
     "output_type": "stream",
     "text": [
      "Enter the first number:  4\n",
      "Enter the second number:  5\n",
      "Enter the operation (+, -, *, /):  -\n"
     ]
    },
    {
     "name": "stdout",
     "output_type": "stream",
     "text": [
      "The result of 4.0 - 5.0 is: -1.0\n"
     ]
    }
   ],
   "source": [
    "#Q6.Write a simple basic calculator program in python.\n",
    "#define the funtion\n",
    "def calculator(x,y,op):\n",
    "    if op == '+':\n",
    "        return x+y\n",
    "    elif op == '-':\n",
    "        return x-y\n",
    "    elif op == '*':\n",
    "        return x*y\n",
    "    elif op == '/':\n",
    "        if y != 0:\n",
    "            return x/y\n",
    "        else:\n",
    "            return \"Error\"\n",
    "    else:\n",
    "        return \"Error: Invalid Operator\"\n",
    "\n",
    "# Input first number\n",
    "x = float(input(\"Enter the first number: \"))\n",
    "\n",
    "# Input second number\n",
    "y = float(input(\"Enter the second number: \"))\n",
    "\n",
    "# Input operation\n",
    "op = input(\"Enter the operation (+, -, *, /): \")\n",
    "\n",
    "# Perform the calculation\n",
    "result = calculator(x, y, op)\n",
    "\n",
    "# Display the result\n",
    "print(\"The result of\", x, op ,y, \"is:\",result)"
   ]
  },
  {
   "cell_type": "code",
   "execution_count": null,
   "id": "e8c15ecf-af9f-4bf4-9e55-cc790e922506",
   "metadata": {},
   "outputs": [],
   "source": []
  }
 ],
 "metadata": {
  "kernelspec": {
   "display_name": "Python 3 (ipykernel)",
   "language": "python",
   "name": "python3"
  },
  "language_info": {
   "codemirror_mode": {
    "name": "ipython",
    "version": 3
   },
   "file_extension": ".py",
   "mimetype": "text/x-python",
   "name": "python",
   "nbconvert_exporter": "python",
   "pygments_lexer": "ipython3",
   "version": "3.11.7"
  }
 },
 "nbformat": 4,
 "nbformat_minor": 5
}
