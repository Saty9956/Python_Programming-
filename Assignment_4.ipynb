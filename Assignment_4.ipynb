{
 "cells": [
  {
   "cell_type": "code",
   "execution_count": 2,
   "id": "4b7b9db7-c9be-4dd9-929e-beab3e62ea58",
   "metadata": {},
   "outputs": [
    {
     "name": "stdout",
     "output_type": "stream",
     "text": [
      "['H', 'e', 'l', 'l', 'o', ' ', 'W', 'o', 'r', 'l', 'd']\n"
     ]
    }
   ],
   "source": [
    "#question 1 WAP to extract each character from a string using a regular expression.\n",
    "import re\n",
    "\n",
    "text = \"Hello World\"\n",
    "characters = re.findall(r'.',text)\n",
    "print(characters)"
   ]
  },
  {
   "cell_type": "code",
   "execution_count": 4,
   "id": "b20a205f-e79b-4a18-982e-965737e1615f",
   "metadata": {},
   "outputs": [
    {
     "name": "stdout",
     "output_type": "stream",
     "text": [
      "['Hello', 'Satyartha', 'How', 'Are', 'You', 'doing']\n"
     ]
    }
   ],
   "source": [
    "#question 2 WAP to extract each word from a string using a reular expression.\n",
    "import re\n",
    "\n",
    "text = \"Hello Satyartha,How Are You doing?\"\n",
    "words = re.findall(r'\\b\\w+\\b',text)\n",
    "print(words)"
   ]
  },
  {
   "cell_type": "code",
   "execution_count": 6,
   "id": "9ac4412b-8671-44b4-9227-d974c83d4b45",
   "metadata": {},
   "outputs": [
    {
     "name": "stdout",
     "output_type": "stream",
     "text": [
      "Hello\n"
     ]
    }
   ],
   "source": [
    "#Question3 WAP to print the first word of the string.\n",
    "\n",
    "import re\n",
    "\n",
    "text = \"Hello Satyartha! How are you?\"\n",
    "first_word = re.search(r'\\b\\w+\\b', text)\n",
    "if first_word:\n",
    "    print(first_word.group()) \n"
   ]
  },
  {
   "cell_type": "code",
   "execution_count": 8,
   "id": "c2267bf1-28d8-4ae9-92c6-d97891ce951a",
   "metadata": {},
   "outputs": [
    {
     "name": "stdout",
     "output_type": "stream",
     "text": [
      "doing\n"
     ]
    }
   ],
   "source": [
    "#Question4 WAP to print the last word of the string.\n",
    "\n",
    "import re\n",
    "\n",
    "text = \"Hello Satyartha, How are you doing\"\n",
    "last_word = re.findall(r'\\b\\w+\\b', text)[-1]\n",
    "print(last_word) \n"
   ]
  },
  {
   "cell_type": "code",
   "execution_count": 10,
   "id": "944fd4ae-2f94-4efe-8313-aac5c29999e4",
   "metadata": {},
   "outputs": [
    {
     "name": "stdout",
     "output_type": "stream",
     "text": [
      "['He', 'll', 'oW', 'or', 'ld']\n"
     ]
    }
   ],
   "source": [
    "#Question5 WAP to print the characters in pairs.\n",
    "\n",
    "import re \n",
    "\n",
    "text = \"HelloWorld\"\n",
    "pairs = re.findall(r'..', text)\n",
    "print(pairs)"
   ]
  },
  {
   "cell_type": "code",
   "execution_count": 12,
   "id": "0b605197-f561-45c3-b675-6979af8fefbc",
   "metadata": {},
   "outputs": [
    {
     "name": "stdout",
     "output_type": "stream",
     "text": [
      "['Hello', 'Satyartha']\n"
     ]
    }
   ],
   "source": [
    "#Question6 WAP to print only the first two characters of every word.\n",
    "\n",
    "import re\n",
    "\n",
    "text = \"Hello Satyartha! How are you?\"\n",
    "First_two_world = re.findall(r'\\b\\w+\\b',text)[0:2]\n",
    "print(First_two_world)"
   ]
  },
  {
   "cell_type": "code",
   "execution_count": 14,
   "id": "761803a0-6896-4a00-9f4e-95b6a00dd794",
   "metadata": {},
   "outputs": [
    {
     "name": "stdin",
     "output_type": "stream",
     "text": [
      "Enter a number 9651632544\n"
     ]
    },
    {
     "data": {
      "text/plain": [
       "'Valid mobile number'"
      ]
     },
     "execution_count": 14,
     "metadata": {},
     "output_type": "execute_result"
    }
   ],
   "source": [
    "#Question7 WAP that validates a mobile phone number. The number should start with 7,8 or 9 followed by 9 digits.\n",
    "\n",
    "import re\n",
    "\n",
    "def validate_phone(number):\n",
    "    pattern = r'^[789]\\d{9}$'\n",
    "    if re.match(pattern, number):\n",
    "        return \"Valid mobile number\"\n",
    "    else:\n",
    "        return \"Invalid mobile number\"\n",
    "\n",
    "number = input(\"Enter a number\")\n",
    "\n",
    "validate_phone(number)\n"
   ]
  },
  {
   "cell_type": "code",
   "execution_count": 16,
   "id": "7fbb4864-9bee-4e41-813b-fa133aad404e",
   "metadata": {},
   "outputs": [
    {
     "name": "stdout",
     "output_type": "stream",
     "text": [
      "['India', 'is', 'a', 'It']\n"
     ]
    }
   ],
   "source": [
    "#Question8 WAP that prints only those words that starts with a vowel.\n",
    "\n",
    "import re \n",
    "\n",
    "text = \"India is a beautiful country.It have so much historic palaces.\"\n",
    "vowel_words = re.findall(r'\\b[aeiouAEIOU]\\w*\\b', text)\n",
    "print(vowel_words)"
   ]
  },
  {
   "cell_type": "code",
   "execution_count": 18,
   "id": "cfe440fd-b766-401a-aca3-2715357b17fb",
   "metadata": {},
   "outputs": [
    {
     "name": "stdout",
     "output_type": "stream",
     "text": [
      "['A5-', 'B2-']\n"
     ]
    }
   ],
   "source": [
    "#Question9 WAP that uses a regular expression to match strings which starts with an upper-case character followed by a digit and a '-'.\n",
    "\n",
    "import re\n",
    "\n",
    "text = \"A5- is valid, B2- is also valid, but c3- and 2D- are not.\"\n",
    "matches = re.findall(r'\\b[A-Z]\\d-', text)\n",
    "print(matches)"
   ]
  },
  {
   "cell_type": "code",
   "execution_count": 20,
   "id": "26dbe2dd-d753-4f5f-83f7-c97095b0c2e1",
   "metadata": {},
   "outputs": [
    {
     "name": "stdout",
     "output_type": "stream",
     "text": [
      "hello\n"
     ]
    }
   ],
   "source": [
    "#Question10 WAP to extract the first n characters of a string.\n",
    "\n",
    "def first_n_chars(text, n):\n",
    "    return text[:n]\n",
    "\n",
    "print(first_n_chars(\"hello world\", 5))\n"
   ]
  },
  {
   "cell_type": "code",
   "execution_count": null,
   "id": "8204a660-ef7c-4864-bb09-bc67b3099538",
   "metadata": {},
   "outputs": [],
   "source": []
  }
 ],
 "metadata": {
  "kernelspec": {
   "display_name": "Python 3 (ipykernel)",
   "language": "python",
   "name": "python3"
  },
  "language_info": {
   "codemirror_mode": {
    "name": "ipython",
    "version": 3
   },
   "file_extension": ".py",
   "mimetype": "text/x-python",
   "name": "python",
   "nbconvert_exporter": "python",
   "pygments_lexer": "ipython3",
   "version": "3.11.7"
  }
 },
 "nbformat": 4,
 "nbformat_minor": 5
}
